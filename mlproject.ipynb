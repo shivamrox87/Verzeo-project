{
 "cells": [
  {
   "cell_type": "markdown",
   "id": "8817a587",
   "metadata": {},
   "source": [
    "# Verzeo -MINOR PROJECT (ML-MINOR-APRIL)"
   ]
  },
  {
   "cell_type": "markdown",
   "id": "7d148da8",
   "metadata": {},
   "source": [
    "### Done by : Shivam Maurya"
   ]
  },
  {
   "cell_type": "markdown",
   "id": "1f374693",
   "metadata": {},
   "source": [
    "### Email Id : Shivamrox87@gmail.com"
   ]
  },
  {
   "cell_type": "raw",
   "id": "fa4e11ee",
   "metadata": {},
   "source": [
    "First let us import the required Libraries"
   ]
  },
  {
   "cell_type": "code",
   "execution_count": 534,
   "id": "cd075329",
   "metadata": {},
   "outputs": [],
   "source": [
    "import pandas as pd\n",
    "import numpy as np\n"
   ]
  },
  {
   "cell_type": "raw",
   "id": "4d2c75f7",
   "metadata": {},
   "source": [
    "Let us read the given Dataset"
   ]
  },
  {
   "cell_type": "code",
   "execution_count": 535,
   "id": "0d62e119",
   "metadata": {},
   "outputs": [],
   "source": [
    "df=pd.read_csv(\"DataCoSupplyChainDataset.csv\")"
   ]
  },
  {
   "cell_type": "markdown",
   "id": "191c486a",
   "metadata": {},
   "source": [
    "# 1.List all the cities and the respective number of pending orders in 'India'?"
   ]
  },
  {
   "cell_type": "code",
   "execution_count": 536,
   "id": "04e6817d",
   "metadata": {},
   "outputs": [],
   "source": [
    "mad=df[\"Order Country\"]\n",
    "a=mad.loc[df[\"Order Country\"]==\"India\"] #using condition to get index for only INDIA "
   ]
  },
  {
   "cell_type": "markdown",
   "id": "6649dd53",
   "metadata": {},
   "source": [
    "### All the order in India with respect to cities"
   ]
  },
  {
   "cell_type": "code",
   "execution_count": 537,
   "id": "c19da591",
   "metadata": {
    "scrolled": true
   },
   "outputs": [
    {
     "data": {
      "text/plain": [
       "Delhi                 181\n",
       "Mumbai                167\n",
       "Pune                  162\n",
       "Bangalore             142\n",
       "Chennai               133\n",
       "Kanpur                124\n",
       "Surat                 104\n",
       "Hyderabad             100\n",
       "Jaipur                 87\n",
       "Visakhapatnam          84\n",
       "Gorakhpur              83\n",
       "Lucknow                82\n",
       "Agra                   80\n",
       "Nagpur                 78\n",
       "Ajmer                  75\n",
       "Raipur                 73\n",
       "Aurangabad             64\n",
       "Durgapur               63\n",
       "Ludhiana               63\n",
       "Korba                  62\n",
       "Patna                  61\n",
       "Guwahati               60\n",
       "Thane                  58\n",
       "Jodhpur                57\n",
       "Coimbatore             55\n",
       "Mangalore              54\n",
       "Vadodara               52\n",
       "Srinagar               50\n",
       "Indore                 47\n",
       "Vijayawada             47\n",
       "Kalyan                 45\n",
       "Solapur                45\n",
       "Rajkot                 44\n",
       "Aligarh                44\n",
       "Bhavnagar              43\n",
       "Bhilai                 41\n",
       "Faridabad              40\n",
       "Bhiwandi               38\n",
       "Puducherry             38\n",
       "Ujjain                 37\n",
       "Meerut                 36\n",
       "Pimpri                 35\n",
       "Dewas                  35\n",
       "Tiruppur               34\n",
       "Bilaspur               34\n",
       "Darbhanga              34\n",
       "Guntur                 34\n",
       "Kota                   34\n",
       "Ranchi                 34\n",
       "Hubli                  33\n",
       "Belgaum                32\n",
       "Kollam                 31\n",
       "Bhopal                 31\n",
       "Fatehpur               30\n",
       "Salem                  29\n",
       "Durg                   29\n",
       "Allahabad              27\n",
       "Nellore                27\n",
       "Bokaro                 27\n",
       "Jabalpur               27\n",
       "Amravati               27\n",
       "Sangli                 27\n",
       "Ulhasnagar             26\n",
       "Bijapur                26\n",
       "Akola                  26\n",
       "Thiruvananthapuram     26\n",
       "Ratlam                 25\n",
       "Moradabad              25\n",
       "Malegaon               25\n",
       "Bihar Sharif           24\n",
       "Kulti                  24\n",
       "Jhansi                 24\n",
       "Tirunelveli            23\n",
       "Satna                  23\n",
       "Bhubaneswar            23\n",
       "Varanasi               21\n",
       "Kochi                  21\n",
       "Kukatpalli             20\n",
       "Patiala                20\n",
       "Kolhapur               20\n",
       "Nagercoil              19\n",
       "Nasik                  19\n",
       "Brahmapur              19\n",
       "Bhatpara               19\n",
       "Avadi                  19\n",
       "Parbhani               19\n",
       "Tiruchchirappalli      19\n",
       "Madurai                18\n",
       "Chandigarh             18\n",
       "Panihati               18\n",
       "Dhule                  18\n",
       "Jamnagar               17\n",
       "Imphal                 17\n",
       "Amritsar               17\n",
       "Warangal               17\n",
       "Cuttack                16\n",
       "Bellary                16\n",
       "Kozhikode              16\n",
       "Bareilly               15\n",
       "Mysore                 15\n",
       "Kamarhati              15\n",
       "Asansol                15\n",
       "Bikaner                15\n",
       "Jamshedpur             15\n",
       "Saharanpur             15\n",
       "Ganganagar             14\n",
       "Gwalior                14\n",
       "Jammu                  13\n",
       "Mau                    13\n",
       "Gaya                   13\n",
       "Muzaffarpur            12\n",
       "Barddhaman             10\n",
       "Thanjavur              10\n",
       "Tirupati               10\n",
       "Gulbarga               10\n",
       "Anantapur              10\n",
       "Jalna                   8\n",
       "Mirzapur                8\n",
       "Mathura                 7\n",
       "Dehra Dun               7\n",
       "Karimnagar              7\n",
       "Ambattur                7\n",
       "Nizamabad               7\n",
       "Ichalkaranji            7\n",
       "Hisar                   7\n",
       "Udaipur                 6\n",
       "Bhilwara                6\n",
       "Ghaziabad               6\n",
       "Naihati                 6\n",
       "Etawah                  6\n",
       "Bhatinda                5\n",
       "Latur                   5\n",
       "Panipat                 5\n",
       "Sonipat                 5\n",
       "Rohtak                  5\n",
       "Firozabad               5\n",
       "Karnal                  5\n",
       "Bharatpur               4\n",
       "Tumkur                  4\n",
       "Hapur                   4\n",
       "Barasat                 3\n",
       "Kakinada                3\n",
       "Baranagar               3\n",
       "Shimoga                 3\n",
       "Shahjahanpur            1\n",
       "New Delhi               1\n",
       "Name: Order City, dtype: int64"
      ]
     },
     "execution_count": 537,
     "metadata": {},
     "output_type": "execute_result"
    }
   ],
   "source": [
    "(df[\"Order City\"].loc[a.index]).value_counts()#using index we can get the cities of INDIA and by using value_counts we can calculate all athe orders from india with respect to their cities"
   ]
  },
  {
   "cell_type": "code",
   "execution_count": 538,
   "id": "a494ad4c",
   "metadata": {},
   "outputs": [],
   "source": [
    "dd=df[\"Order Status\"].loc[ina]\n",
    "ddf=dd[df[\"Order Status\"]==(\"PENDING\")] #using condition to get indexes of only Pending  order status"
   ]
  },
  {
   "cell_type": "markdown",
   "id": "b9af1f1e",
   "metadata": {},
   "source": [
    "### Pending orders from India"
   ]
  },
  {
   "cell_type": "code",
   "execution_count": 539,
   "id": "ed042fdc",
   "metadata": {
    "scrolled": true
   },
   "outputs": [
    {
     "data": {
      "text/plain": [
       "Kanpur                25\n",
       "Pune                  24\n",
       "Bangalore             24\n",
       "Lucknow               21\n",
       "Mumbai                18\n",
       "Delhi                 18\n",
       "Hyderabad             17\n",
       "Ajmer                 17\n",
       "Visakhapatnam         15\n",
       "Korba                 14\n",
       "Nagpur                13\n",
       "Chennai               12\n",
       "Gorakhpur             12\n",
       "Jabalpur              11\n",
       "Durgapur              11\n",
       "Faridabad             10\n",
       "Darbhanga              9\n",
       "Jaipur                 9\n",
       "Guwahati               8\n",
       "Belgaum                8\n",
       "Raipur                 8\n",
       "Kulti                  8\n",
       "Agra                   7\n",
       "Salem                  7\n",
       "Jodhpur                7\n",
       "Kota                   7\n",
       "Patna                  7\n",
       "Surat                  7\n",
       "Bhubaneswar            6\n",
       "Amritsar               6\n",
       "Nasik                  6\n",
       "Dewas                  6\n",
       "Bellary                6\n",
       "Satna                  5\n",
       "Rohtak                 5\n",
       "Ranchi                 5\n",
       "Bokaro                 5\n",
       "Ujjain                 5\n",
       "Coimbatore             5\n",
       "Tirunelveli            5\n",
       "Imphal                 5\n",
       "Ulhasnagar             5\n",
       "Moradabad              5\n",
       "Mysore                 4\n",
       "Durg                   4\n",
       "Malegaon               4\n",
       "Srinagar               4\n",
       "Aligarh                4\n",
       "Jhansi                 4\n",
       "Saharanpur             4\n",
       "Kollam                 3\n",
       "Parbhani               3\n",
       "Muzaffarpur            3\n",
       "Shimoga                3\n",
       "Bhavnagar              3\n",
       "Amravati               3\n",
       "Jammu                  3\n",
       "Bhiwandi               3\n",
       "Solapur                3\n",
       "Puducherry             3\n",
       "Anantapur              3\n",
       "Nellore                3\n",
       "Kolhapur               3\n",
       "Thiruvananthapuram     3\n",
       "Mangalore              2\n",
       "Kamarhati              2\n",
       "Ludhiana               2\n",
       "Meerut                 2\n",
       "Rajkot                 2\n",
       "Bihar Sharif           2\n",
       "Ganganagar             1\n",
       "Chandigarh             1\n",
       "Bikaner                1\n",
       "Hisar                  1\n",
       "Vadodara               1\n",
       "Madurai                1\n",
       "Jamnagar               1\n",
       "Bhopal                 1\n",
       "Brahmapur              1\n",
       "Ichalkaranji           1\n",
       "Gulbarga               1\n",
       "Pimpri                 1\n",
       "Tiruppur               1\n",
       "Ghaziabad              1\n",
       "Fatehpur               1\n",
       "Patiala                1\n",
       "Thane                  1\n",
       "Warangal               1\n",
       "Aurangabad             1\n",
       "Hubli                  1\n",
       "Bilaspur               1\n",
       "Name: Order City, dtype: int64"
      ]
     },
     "execution_count": 539,
     "metadata": {},
     "output_type": "execute_result"
    }
   ],
   "source": [
    "pend_ord=(df[\"Order City\"].loc[ddf.index])#by using index in ddf we can get the pending index so it'll help to get the order cities of INDIA only\n",
    "pend_ord.value_counts()#value counts will help to get the umber of elements of each unique identity that is number of pending orders fo each cities "
   ]
  },
  {
   "cell_type": "markdown",
   "id": "868c63e9",
   "metadata": {},
   "source": [
    "# 2. Which product(s) has/have the maximum discount?"
   ]
  },
  {
   "cell_type": "code",
   "execution_count": 540,
   "id": "5b9be308",
   "metadata": {},
   "outputs": [
    {
     "data": {
      "text/plain": [
       "12606    SOLE E35 Elliptical\n",
       "Name: Product Name, dtype: object"
      ]
     },
     "execution_count": 540,
     "metadata": {},
     "output_type": "execute_result"
    }
   ],
   "source": [
    "maxd=df.loc[df[[\"Order Item Discount\"]].idxmax()] #loc will help to get index of maximum discount by using idxmax function in Order Item Discount column\n",
    "maxd[\"Product Name\"]"
   ]
  },
  {
   "cell_type": "markdown",
   "id": "b3632e1a",
   "metadata": {},
   "source": [
    "# 3. Which country has the most suspected fraud?"
   ]
  },
  {
   "cell_type": "code",
   "execution_count": 541,
   "id": "7ed240b5",
   "metadata": {},
   "outputs": [
    {
     "data": {
      "text/plain": [
       "0    Estados Unidos\n",
       "dtype: object"
      ]
     },
     "execution_count": 541,
     "metadata": {},
     "output_type": "execute_result"
    }
   ],
   "source": [
    "sus_fra=df[df[\"Order Status\"]==\"SUSPECTED_FRAUD\"]\n",
    "sus_fra[\"Order Country\"].mode() #mode helps to find most occuring element in the Series"
   ]
  },
  {
   "cell_type": "markdown",
   "id": "d168a3da",
   "metadata": {},
   "source": [
    "#  4.  Which year had the minimum sales for \"Nike\" products?"
   ]
  },
  {
   "cell_type": "code",
   "execution_count": 542,
   "id": "467202d1",
   "metadata": {},
   "outputs": [
    {
     "data": {
      "text/plain": [
       "2017"
      ]
     },
     "execution_count": 542,
     "metadata": {},
     "output_type": "execute_result"
    }
   ],
   "source": [
    "f=df[\"Product Name\"]\n",
    "\n",
    "#now lets create a column for year\n",
    "df['year'] = pd.DatetimeIndex(df['order date (DateOrders)']).year\n",
    "\n",
    "yea=[] #creating variable for storing sales year of Nike only\n",
    "sal=[] #creating vartiable to store sales of Nike only\n",
    "\n",
    "for i in range(180519):\n",
    "    if \"Nike\" in f[i]:\n",
    "        yea.append(df[\"year\"][i])\n",
    "        sal.append(df[\"Sales\"][i])\n",
    "\n",
    "arra_sal=np.array(sal) #converting list to array will help us to use many functions to fetch data from it\n",
    "yea[arra_sal.argmin()] #argmin() function helps to find index of minimum salary for Nike"
   ]
  },
  {
   "cell_type": "markdown",
   "id": "3f57f3f0",
   "metadata": {},
   "source": [
    "## The End-"
   ]
  },
  {
   "cell_type": "markdown",
   "id": "e97a19ae",
   "metadata": {},
   "source": [
    "## Shivam Maurya"
   ]
  }
 ],
 "metadata": {
  "kernelspec": {
   "display_name": "Python 3",
   "language": "python",
   "name": "python3"
  },
  "language_info": {
   "codemirror_mode": {
    "name": "ipython",
    "version": 3
   },
   "file_extension": ".py",
   "mimetype": "text/x-python",
   "name": "python",
   "nbconvert_exporter": "python",
   "pygments_lexer": "ipython3",
   "version": "3.8.5"
  }
 },
 "nbformat": 4,
 "nbformat_minor": 5
}
